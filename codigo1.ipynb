{
 "cells": [
  {
   "cell_type": "markdown",
   "id": "fab4778d",
   "metadata": {},
   "source": [
    "# Esto es un título en Markdown,  use tecla mayus(shift) + enter\n",
    "## Esto es un subtitulo en Markdown\n",
    "Esto es un texto para un páragrafo en Markdown \n",
    "\n",
    "*Esto es un texto en cursiva*\n",
    "\n",
    "**Esto es un texto en negrita**\n"
   ]
  },
  {
   "cell_type": "code",
   "execution_count": 1,
   "id": "3317bcc2",
   "metadata": {},
   "outputs": [
    {
     "name": "stdout",
     "output_type": "stream",
     "text": [
      "mundo, hola\n"
     ]
    }
   ],
   "source": [
    "print(\"mundo, hola\")"
   ]
  },
  {
   "cell_type": "code",
   "execution_count": 2,
   "id": "51d75ded",
   "metadata": {},
   "outputs": [
    {
     "name": "stdout",
     "output_type": "stream",
     "text": [
      "Print es una instruccion que muestra texto en pantalla\n"
     ]
    }
   ],
   "source": [
    "print(\"Print es una instruccion que muestra texto en pantalla\")"
   ]
  },
  {
   "cell_type": "code",
   "execution_count": null,
   "id": "47d91c13",
   "metadata": {},
   "outputs": [],
   "source": []
  }
 ],
 "metadata": {
  "kernelspec": {
   "display_name": "Python 3 (ipykernel)",
   "language": "python",
   "name": "python3"
  },
  "language_info": {
   "codemirror_mode": {
    "name": "ipython",
    "version": 3
   },
   "file_extension": ".py",
   "mimetype": "text/x-python",
   "name": "python",
   "nbconvert_exporter": "python",
   "pygments_lexer": "ipython3",
   "version": "3.11.0"
  }
 },
 "nbformat": 4,
 "nbformat_minor": 5
}
