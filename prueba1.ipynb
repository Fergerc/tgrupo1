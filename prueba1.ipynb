{
 "cells": [
  {
   "cell_type": "code",
   "execution_count": null,
   "id": "c16ba698",
   "metadata": {},
   "outputs": [],
   "source": [
    "# no hay codigos\n"
   ]
  },
  {
   "cell_type": "code",
   "execution_count": 1,
   "id": "494f525a",
   "metadata": {},
   "outputs": [
    {
     "name": "stdout",
     "output_type": "stream",
     "text": [
      "Ingrese el valor de x: 4\n",
      "Ingrese el valor de y: 4\n",
      "8\n",
      "Mediano\n"
     ]
    }
   ],
   "source": [
    "x = int(input('Ingrese el valor de x: '))\n",
    "y = int(input('Ingrese el valor de y: '))\n",
    "\n",
    "def f(x,y):\n",
    "    s = 0\n",
    "    if x<=y:\n",
    "        for i in range(x,y+1):\n",
    "            s = (i-2)**3 + s\n",
    "        return s\n",
    "    else : \n",
    "        for i in range(y,x+1):\n",
    "            s = (i + 3)**2 + s\n",
    "        return s\n",
    "print(f(x,y))\n",
    "\n",
    "F = f(x,y)\n",
    "if F>10:\n",
    "    print('Grande')\n",
    "\n",
    "elif  -10<= F <=10:\n",
    "    print('Mediano')\n",
    "\n",
    "elif F<-10:\n",
    "    print('Pequeño')\n",
    "\n",
    "    "
   ]
  },
  {
   "cell_type": "code",
   "execution_count": null,
   "id": "32264750",
   "metadata": {},
   "outputs": [],
   "source": []
  }
 ],
 "metadata": {
  "kernelspec": {
   "display_name": "Python 3 (ipykernel)",
   "language": "python",
   "name": "python3"
  },
  "language_info": {
   "codemirror_mode": {
    "name": "ipython",
    "version": 3
   },
   "file_extension": ".py",
   "mimetype": "text/x-python",
   "name": "python",
   "nbconvert_exporter": "python",
   "pygments_lexer": "ipython3",
   "version": "3.9.13"
  }
 },
 "nbformat": 4,
 "nbformat_minor": 5
}
