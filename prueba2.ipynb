{
  "cells": [
    {
      "cell_type": "code",
      "execution_count": null,
      "id": "5d10d514",
      "metadata": {
        "id": "5d10d514",
        "outputId": "5f57e832-0233-4d16-849a-5b6a638d8e71"
      },
      "outputs": [
        {
          "name": "stdout",
          "output_type": "stream",
          "text": [
            "5\n"
          ]
        }
      ],
      "source": [
        "x=2\n",
        "y=3\n",
        "print(x+y)\n",
        "#editando desde google colaboraty\n",
        "#volviendo a editar en google colaboraty"
      ]
    },
    {
      "cell_type": "code",
      "execution_count": null,
      "id": "63f32ed6",
      "metadata": {
        "id": "63f32ed6"
      },
      "outputs": [],
      "source": []
    }
  ],
  "metadata": {
    "kernelspec": {
      "display_name": "Python 3 (ipykernel)",
      "language": "python",
      "name": "python3"
    },
    "language_info": {
      "codemirror_mode": {
        "name": "ipython",
        "version": 3
      },
      "file_extension": ".py",
      "mimetype": "text/x-python",
      "name": "python",
      "nbconvert_exporter": "python",
      "pygments_lexer": "ipython3",
      "version": "3.9.13"
    },
    "colab": {
      "provenance": []
    }
  },
  "nbformat": 4,
  "nbformat_minor": 5
}